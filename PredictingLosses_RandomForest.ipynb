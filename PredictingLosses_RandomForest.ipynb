{
  "nbformat": 4,
  "nbformat_minor": 0,
  "metadata": {
    "colab": {
      "provenance": []
    },
    "kernelspec": {
      "name": "python3",
      "display_name": "Python 3"
    },
    "language_info": {
      "name": "python"
    }
  },
  "cells": [
    {
      "cell_type": "code",
      "execution_count": 6,
      "metadata": {
        "id": "9dTVCIg3f86C"
      },
      "outputs": [],
      "source": [
        "# Import necessary libraries\n",
        "import pandas as pd\n",
        "import numpy as np\n",
        "from sklearn.model_selection import train_test_split\n",
        "from sklearn.preprocessing import StandardScaler\n",
        "from sklearn.ensemble import RandomForestRegressor\n",
        "from sklearn.metrics import mean_squared_error, r2_score\n",
        "import matplotlib.pyplot as plt"
      ]
    },
    {
      "cell_type": "code",
      "source": [
        "# Load data from Excel\n",
        "file_path = 'Book2.xlsx'  # Replace with your Excel file path\n",
        "data = pd.read_excel(file_path)\n",
        "\n",
        "# Display the first few rows to confirm\n",
        "print(\"Data Loaded:\")\n",
        "print(data.head())"
      ],
      "metadata": {
        "colab": {
          "base_uri": "https://localhost:8080/"
        },
        "id": "KGpJUznmgKbC",
        "outputId": "471e9894-2b06-4569-c228-47e2189e38e0"
      },
      "execution_count": 7,
      "outputs": [
        {
          "output_type": "stream",
          "name": "stdout",
          "text": [
            "Data Loaded:\n",
            "      Year  Policies_Issued  First_Year_Premium  Renewal_Premium  \\\n",
            "0  2013-14           291.77           115507.81        451524.01   \n",
            "1  2014-15           260.17           113327.94        239667.65   \n",
            "2  2015-16           267.38           138657.31        267818.42   \n",
            "3  2016-17           264.56           175021.89        301720.23   \n",
            "4  2017-18           281.97           194153.90        264655.54   \n",
            "\n",
            "   Total_Premium  Claims_Ratio  Persistency_Ratio  Grievances_Reported  \\\n",
            "0      829929.46         70.22               84.8               123230   \n",
            "1      328101.14         99.07               56.0               305996   \n",
            "2      366943.23         98.33               61.0               269777   \n",
            "3      418476.62         98.50               67.0               223048   \n",
            "4      458809.44         80.71               84.8               223048   \n",
            "\n",
            "   Grievances_Resolved  UBFPs_Reported  Loss_Due_To_Misselling  \n",
            "0               122772           16834                    3584  \n",
            "1               305665           16834                    3756  \n",
            "2               269476           16834                    3632  \n",
            "3               223029           17467                    3835  \n",
            "4               223029           17467                    3597  \n"
          ]
        }
      ]
    },
    {
      "cell_type": "code",
      "source": [
        "# Validate required columns\n",
        "required_columns = [\n",
        "    'Year', 'Policies_Issued', 'First_Year_Premium', 'Renewal_Premium',\n",
        "    'Total_Premium', 'Claims_Ratio', 'Persistency_Ratio',\n",
        "    'Grievances_Reported', 'Grievances_Resolved', 'UBFPs_Reported',\n",
        "    'Loss_Due_To_Misselling'\n",
        "]\n",
        "\n",
        "if not all(col in data.columns for col in required_columns):\n",
        "    raise ValueError(f\"The input Excel file must contain the following columns: {', '.join(required_columns)}\")\n",
        "\n",
        "# Separate features and target variable\n",
        "X = data.drop(['Year', 'Loss_Due_To_Misselling'], axis=1)\n",
        "y = data['Loss_Due_To_Misselling']"
      ],
      "metadata": {
        "id": "B7pck73O3U8B"
      },
      "execution_count": 8,
      "outputs": []
    },
    {
      "cell_type": "code",
      "source": [
        "# Check for missing values\n",
        "if X.isnull().any().any():\n",
        "    X.fillna(X.mean(), inplace=True)  # Filling missing values with the mean\n",
        "\n",
        "# Scale the features\n",
        "scaler = StandardScaler()\n",
        "X_scaled = scaler.fit_transform(X)\n",
        "\n",
        "# Split the data into training and testing sets\n",
        "X_train, X_test, y_train, y_test = train_test_split(X_scaled, y, test_size=0.2, random_state=42)"
      ],
      "metadata": {
        "id": "yTLnzL763diw"
      },
      "execution_count": 9,
      "outputs": []
    },
    {
      "cell_type": "code",
      "source": [
        "# Initialize and train the RandomForestRegressor\n",
        "rf_model = RandomForestRegressor(n_estimators=100, random_state=42)\n",
        "rf_model.fit(X_train, y_train)\n",
        "\n",
        "# Predictions using Random Forest\n",
        "y_pred_rf = rf_model.predict(X_test)\n",
        "\n",
        "# Evaluate the RandomForest model\n",
        "mse_rf = mean_squared_error(y_test, y_pred_rf)\n",
        "r2_rf = r2_score(y_test, y_pred_rf)\n",
        "\n",
        "# Print evaluation metrics\n",
        "print(f\"Random Forest - Mean Squared Error: {mse_rf}\")\n",
        "print(f\"Random Forest - R-squared Score: {r2_rf}\")"
      ],
      "metadata": {
        "colab": {
          "base_uri": "https://localhost:8080/"
        },
        "id": "ws7LzY0x3hUo",
        "outputId": "ef63acbe-2f62-485d-e756-7d0e434a323a"
      },
      "execution_count": 10,
      "outputs": [
        {
          "output_type": "stream",
          "name": "stdout",
          "text": [
            "Random Forest - Mean Squared Error: 30974.12499999999\n",
            "Random Forest - R-squared Score: 0.8610627040944487\n"
          ]
        }
      ]
    },
    {
      "cell_type": "code",
      "source": [
        "# Plot feature importances from Random Forest\n",
        "plt.figure(figsize=(10, 6))\n",
        "feature_importances = rf_model.feature_importances_\n",
        "plt.barh(X.columns, feature_importances)\n",
        "plt.title('Feature Importances (Random Forest)')\n",
        "plt.xlabel('Importance')\n",
        "plt.ylabel('Feature')\n",
        "plt.show()"
      ],
      "metadata": {
        "colab": {
          "base_uri": "https://localhost:8080/",
          "height": 564
        },
        "id": "KfNU6jS43mNZ",
        "outputId": "4e6ac1aa-50ae-4bba-abbf-1ab39f05b08f"
      },
      "execution_count": 11,
      "outputs": [
        {
          "output_type": "display_data",
          "data": {
            "text/plain": [
              "<Figure size 1000x600 with 1 Axes>"
            ],
            "image/png": "[encoded data removed]"
          },
          "metadata": {}
        }
      ]
    },
    {
      "cell_type": "code",
      "source": [
        "# Function to predict using new input\n",
        "def predict_new_input(new_data):\n",
        "    \"\"\"\n",
        "    Predict the Loss Due to Mis-selling for new input data using the trained Random Forest model.\n",
        "\n",
        "    :param new_data: DataFrame or dictionary with the same structure as the original input data (excluding target column).\n",
        "    :return: Predicted value for Loss Due to Mis-selling.\n",
        "    \"\"\"\n",
        "    # If new_data is a dictionary, convert it to DataFrame\n",
        "    if isinstance(new_data, dict):\n",
        "        new_data = pd.DataFrame([new_data])\n",
        "\n",
        "    # Preprocess and scale the new data\n",
        "    new_data_scaled = scaler.transform(new_data)\n",
        "\n",
        "    # Predict using the trained model\n",
        "    predicted_loss = rf_model.predict(new_data_scaled)\n",
        "\n",
        "    return predicted_loss[0]  # Return the first prediction (assuming a single input)"
      ],
      "metadata": {
        "id": "UWrSJUUu3pmZ"
      },
      "execution_count": 12,
      "outputs": []
    },
    {
      "cell_type": "code",
      "source": [
        "# Example usage of predict_new_input function:\n",
        "#300, 120000, 470000, 850000, 68, 85, 120000, 119500, 16000\n",
        "new_input_data = {\n",
        "    'Policies_Issued': 300,\n",
        "    'First_Year_Premium': 120000,\n",
        "    'Renewal_Premium': 470000,\n",
        "    'Total_Premium': 850000,\n",
        "    'Claims_Ratio': 68,\n",
        "    'Persistency_Ratio': 85,\n",
        "    'Grievances_Reported': 120000,\n",
        "    'Grievances_Resolved': 119500,\n",
        "    'UBFPs_Reported': 16000\n",
        "}\n",
        "predicted_loss = predict_new_input(new_input_data)\n",
        "print(f\"Predicted Loss Due to Mis-selling for the new input: ₹ {predicted_loss:.2f} crore\")"
      ],
      "metadata": {
        "colab": {
          "base_uri": "https://localhost:8080/"
        },
        "id": "v9VIhAnj32FI",
        "outputId": "41fb4cfe-f030-4302-ab3c-e6340723b31b"
      },
      "execution_count": 16,
      "outputs": [
        {
          "output_type": "stream",
          "name": "stdout",
          "text": [
            "Predicted Loss Due to Mis-selling for the new input: ₹ 3951.59 crore\n"
          ]
        }
      ]
    },
    {
      "cell_type": "code",
      "source": [
        "# Function to print derived formula based on feature importances\n",
        "def print_derived_formula():\n",
        "    \"\"\"\n",
        "    Prints a simplified derived formula using feature importances from the trained Random Forest model.\n",
        "    This function assumes that the Random Forest model's feature importances are used to estimate\n",
        "    how each feature contributes to predicting the target variable.\n",
        "    \"\"\"\n",
        "    print(\"\\nDerived Formula Based on Feature Importances (Random Forest):\")\n",
        "    print(f\"Loss_Due_To_Misselling = {rf_model.intercept_ if hasattr(rf_model, 'intercept_') else 0:.4f}\")  # Placeholder for intercept\n",
        "    for feature, importance in zip(X.columns, feature_importances):\n",
        "        print(f\" + ({importance:.4f}) * {feature}\")\n",
        "\n",
        "# Call the function to print the derived formula\n",
        "print_derived_formula()"
      ],
      "metadata": {
        "colab": {
          "base_uri": "https://localhost:8080/"
        },
        "id": "xsoOjK5Q359g",
        "outputId": "4d2351f2-eb26-4e81-e744-f82ee368e160"
      },
      "execution_count": 15,
      "outputs": [
        {
          "output_type": "stream",
          "name": "stdout",
          "text": [
            "\n",
            "Derived Formula Based on Feature Importances (Random Forest):\n",
            "Loss_Due_To_Misselling = 0.0000\n",
            " + (0.0390) * Policies_Issued\n",
            " + (0.4449) * First_Year_Premium\n",
            " + (0.0942) * Renewal_Premium\n",
            " + (0.0132) * Total_Premium\n",
            " + (0.0380) * Claims_Ratio\n",
            " + (0.0474) * Persistency_Ratio\n",
            " + (0.0016) * Grievances_Reported\n",
            " + (0.0215) * Grievances_Resolved\n",
            " + (0.3003) * UBFPs_Reported\n"
          ]
        }
      ]
    },
    {
      "cell_type": "code",
      "source": [],
      "metadata": {
        "id": "Ta5XBWj_5iho"
      },
      "execution_count": null,
      "outputs": []
    }
  ]
}